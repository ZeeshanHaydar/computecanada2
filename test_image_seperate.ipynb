{
 "cells": [
  {
   "cell_type": "code",
   "execution_count": 3,
   "metadata": {},
   "outputs": [],
   "source": [
    "# How to seperate the images from folder using csv file\n",
    "\n",
    "import pandas as pd\n",
    "import os\n",
    "import shutil\n",
    "\n",
    "# Read the csv file\n",
    "df = pd.read_csv('test.csv')\n",
    "\n",
    "# Create a new folder\n",
    "os.mkdir('test_images')\n",
    "    "
   ]
  },
  {
   "cell_type": "code",
   "execution_count": 10,
   "metadata": {},
   "outputs": [
    {
     "data": {
      "text/plain": [
       "image_path    2092\n",
       "dtype: int64"
      ]
     },
     "execution_count": 10,
     "metadata": {},
     "output_type": "execute_result"
    }
   ],
   "source": [
    "train_images= pd.read_csv('train.csv')\n",
    "test_images= pd.read_csv('test.csv')\n",
    "test_images.count()"
   ]
  },
  {
   "cell_type": "code",
   "execution_count": 11,
   "metadata": {},
   "outputs": [
    {
     "name": "stdout",
     "output_type": "stream",
     "text": [
      "Unique values count : 7874\n"
     ]
    }
   ],
   "source": [
    "count = train_images.image_path.unique().size\n",
    "print(\"Unique values count : \"+ str(count))"
   ]
  },
  {
   "cell_type": "code",
   "execution_count": 12,
   "metadata": {},
   "outputs": [],
   "source": [
    "# move the images from the folder to the new folder\n",
    "\n",
    "for i in df['image_path']:\n",
    "    shutil.move(i, 'test_images/'+i)\n",
    "    #shutil.move('images/'+i+'.jpg', 'test_images/'+i+'.jpg')\n"
   ]
  }
 ],
 "metadata": {
  "kernelspec": {
   "display_name": "sklearn-env",
   "language": "python",
   "name": "python3"
  },
  "language_info": {
   "codemirror_mode": {
    "name": "ipython",
    "version": 3
   },
   "file_extension": ".py",
   "mimetype": "text/x-python",
   "name": "python",
   "nbconvert_exporter": "python",
   "pygments_lexer": "ipython3",
   "version": "3.11.0"
  },
  "orig_nbformat": 4,
  "vscode": {
   "interpreter": {
    "hash": "c3c926d9a258056eacab349d0d0c005aacf89f143fc5e7d4841d2aa97db4e7db"
   }
  }
 },
 "nbformat": 4,
 "nbformat_minor": 2
}
